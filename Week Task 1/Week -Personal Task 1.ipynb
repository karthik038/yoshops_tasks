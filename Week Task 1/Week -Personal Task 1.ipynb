{
 "cells": [
  {
   "cell_type": "code",
   "execution_count": null,
   "id": "de85522b",
   "metadata": {},
   "outputs": [],
   "source": [
    "Dataset link : https://drive.google.com/drive/folders/1mYT7dzRblGqXNAPDsm6nASECZe_XCwo9?usp=share_link"
   ]
  },
  {
   "cell_type": "markdown",
   "id": "001b58c2",
   "metadata": {},
   "source": [
    "#### Python program to Create a excel file"
   ]
  },
  {
   "cell_type": "code",
   "execution_count": 1,
   "id": "630cf34f",
   "metadata": {},
   "outputs": [],
   "source": [
    "#pip install xlsrwriter\n",
    "\n",
    "import xlsxwriter\n",
    "\n",
    "workbook = xlsxwriter.Workbook('Score_card.xlsx')\n",
    "worksheet = workbook.add_worksheet(\"Mark sheet\")\n",
    "scores = (\n",
    "    ['Math', 93],\n",
    "    ['Science',   91],\n",
    "    ['Social',  87],\n",
    "    ['Tamil',    83],\n",
    "    ['English', 83]\n",
    ")\n",
    "\n",
    "row = 0\n",
    "col = 0\n",
    " \n",
    "for name, score in (scores):\n",
    "    worksheet.write(row, col, name)\n",
    "    worksheet.write(row, col + 1, score)\n",
    "    row += 1\n",
    " \n",
    "workbook.close()"
   ]
  },
  {
   "cell_type": "markdown",
   "id": "2378b013",
   "metadata": {},
   "source": [
    "#### Python program for Import data from an excel file "
   ]
  },
  {
   "cell_type": "code",
   "execution_count": 59,
   "id": "ed6a982e",
   "metadata": {},
   "outputs": [
    {
     "name": "stdout",
     "output_type": "stream",
     "text": [
      "      Math  93\n",
      "0  Science  91\n",
      "1   Social  87\n",
      "2    Tamil  83\n",
      "3  English  83\n"
     ]
    }
   ],
   "source": [
    "#pip install pandas\n",
    "\n",
    "import pandas as pd\n",
    "\n",
    "df = pd.read_excel(\"Score_card.xlsx\")\n",
    "print(df)"
   ]
  },
  {
   "cell_type": "markdown",
   "id": "fec0eac6",
   "metadata": {},
   "source": [
    "#### Python program for Format data in excel sheet"
   ]
  },
  {
   "cell_type": "code",
   "execution_count": 1,
   "id": "b8c358aa",
   "metadata": {},
   "outputs": [],
   "source": [
    "import xlsxwriter\n",
    "workbook = xlsxwriter.Workbook('company_employee_data.xlsx')\n",
    "worksheet = workbook.add_worksheet()\n",
    " \n",
    "cell_format = workbook.add_format({'bold': True, 'font_color': 'red'})\n",
    "cell_format.set_font_size(16)\n",
    "cell_format.set_underline(2)\n",
    "cell_format.set_align('center')\n",
    " \n",
    "cell_format1 = workbook.add_format({'font_color': 'blue'})\n",
    " \n",
    "cell_format1.set_align('center')\n",
    "worksheet.write('A1', 'Name', cell_format)\n",
    "worksheet.write('B1', 'Department', cell_format)\n",
    "row = 1\n",
    "col = 0\n",
    " \n",
    "data = ( \n",
    "    ['Rajendra', 'Business Analyst'], \n",
    "    ['Kashish','Voice and Non_voice Process '], \n",
    "    ['Arun', 'Data Associate'], \n",
    "    ['Rohan','Cloud Associate'], \n",
    ") \n",
    " \n",
    "worksheet.set_column('B1:B1', 60)\n",
    "worksheet.set_column('B2:B5',60,cell_format1)\n",
    "worksheet.set_column('A1:A5', 20,cell_format1)\n",
    " \n",
    "for name, score in (data): \n",
    "    worksheet.write(row, col, name) \n",
    "    worksheet.write(row, col + 1, score) \n",
    "    row += 1\n",
    "workbook.close()"
   ]
  },
  {
   "cell_type": "markdown",
   "id": "d91e4896",
   "metadata": {},
   "source": [
    "#### Python program for Prepare excel charts Pie Chart and Bar Chart "
   ]
  },
  {
   "cell_type": "code",
   "execution_count": 13,
   "id": "9e036c5a",
   "metadata": {},
   "outputs": [],
   "source": [
    "workbook = xlsxwriter.Workbook('chart_pie_bar.xlsx')\n",
    "worksheet = workbook.add_worksheet()\n",
    "bold = workbook.add_format({'bold': 1})\n",
    "\n",
    "headings = ['Category', 'Values']\n",
    "data = [\n",
    "   ['Apple', 'Cherry', 'Pecan'],\n",
    "   [60, 30, 10],\n",
    "] \n",
    "\n",
    "worksheet.write_row('A1', headings, bold)\n",
    "worksheet.write_column('A2', data[0])\n",
    "worksheet.write_column('B2', data[1])\n",
    "\n",
    "#Pie chart\n",
    "\n",
    "chart = workbook.add_chart({'type': 'pie'})\n",
    "chart.add_series({\n",
    "   'name':       ['Sheet1', 0, 2],\n",
    "   'categories': ['Sheet1', 1, 0, 3, 0],\n",
    "   'values':     ['Sheet1', 1, 1, 3, 1],\n",
    "})\n",
    "\n",
    "chart.set_title({'name':'Pie chart for sales data'})\n",
    "chart.set_style(10)\n",
    "worksheet.insert_chart('C2', chart, {'x_offset': 25, 'y_offset': 10})\n",
    "\n",
    "\n",
    "#Bar chart\n",
    "\n",
    "chart1 = workbook.add_chart({'type': 'bar'})\n",
    "chart1.add_series({\n",
    "   'name':       ['Sheet1', 0, 2],\n",
    "   'categories': ['Sheet1', 1, 0, 3, 0],\n",
    "   'values':     ['Sheet1', 1, 1, 3, 1],\n",
    "})\n",
    "\n",
    "chart1.set_title({'name':'bar chart for sales data'})\n",
    "chart1.set_style(10)\n",
    "worksheet.insert_chart('K2', chart1)\n",
    "\n",
    "workbook.close()"
   ]
  },
  {
   "cell_type": "markdown",
   "id": "718615ed",
   "metadata": {},
   "source": [
    "#### Python program for Extract mobile no from PDF, XML and MS word file and save into MS excel"
   ]
  },
  {
   "cell_type": "code",
   "execution_count": null,
   "id": "1221869c",
   "metadata": {},
   "outputs": [],
   "source": [
    "#PDF"
   ]
  },
  {
   "cell_type": "code",
   "execution_count": 7,
   "id": "d77e92d0",
   "metadata": {},
   "outputs": [
    {
     "name": "stdout",
     "output_type": "stream",
     "text": [
      "['9528692288', '9154940621', '8767852141']\n"
     ]
    }
   ],
   "source": [
    "#pip install PyPDF2\n",
    "\n",
    "import PyPDF2  \n",
    "import re\n",
    "import pandas as pd\n",
    "\n",
    "pdfFileObj = open('customer_contact_data.pdf', 'rb')\n",
    "pdfReader = PyPDF2.PdfFileReader(pdfFileObj)\n",
    "\n",
    "pageObj = pdfReader.getPage(0)\n",
    "content =  pageObj.extractText()\n",
    "# print(content)\n",
    "# print(\"---------------------------------------------------\")\n",
    "\n",
    "number = re.findall(r'[\\+\\(]?[1-9][0-9 .\\-\\(\\)]{8,}[0-9]',content)\n",
    "print(number)"
   ]
  },
  {
   "cell_type": "code",
   "execution_count": 55,
   "id": "61c7b7ad",
   "metadata": {},
   "outputs": [],
   "source": [
    "#creating a csv file\n",
    "import csv\n",
    "\n",
    "Pdf_df = pd.DataFrame(list(zip(number)), columns=['Mobile_No'])\n",
    "Pdf_df.to_csv(\"PdfToExcel.csv\")"
   ]
  },
  {
   "cell_type": "code",
   "execution_count": null,
   "id": "762431ac",
   "metadata": {},
   "outputs": [],
   "source": [
    "#Ms Word"
   ]
  },
  {
   "cell_type": "code",
   "execution_count": 6,
   "id": "ee21438b",
   "metadata": {},
   "outputs": [
    {
     "name": "stdout",
     "output_type": "stream",
     "text": [
      "NAME: Reena\n",
      "\n",
      "Mobile No: 9528692288\n",
      "\n",
      "Email: reena22@gmail.com\n",
      "\n",
      "\n",
      "\n",
      "NAME: Sandhya\n",
      "\n",
      "Mobile No: 9154940621\n",
      "\n",
      "Email: sandhya21@gamil.com\n",
      "\n",
      "\n",
      "\n",
      "NAME: Kamini\n",
      "\n",
      "Mobile No: 8767852141\n",
      "\n",
      "Email: kamini141@gmail.com\n"
     ]
    }
   ],
   "source": [
    "#pip install docx2txt\n",
    "\n",
    "import docx2txt\n",
    "result = docx2txt.process(\"Customer_contact_data.docx\")\n",
    "print(result)"
   ]
  },
  {
   "cell_type": "code",
   "execution_count": 7,
   "id": "485e7c3b",
   "metadata": {},
   "outputs": [
    {
     "name": "stdout",
     "output_type": "stream",
     "text": [
      "['9528692288', '9154940621', '8767852141']\n"
     ]
    }
   ],
   "source": [
    "numbers = re.findall(r'[\\+\\(]?[1-9][0-9 .\\-\\(\\)]{8,}[0-9]',result)\n",
    "print(numbers)\n",
    "\n",
    "#creating a csv file\n",
    "word_df = pd.DataFrame(list(zip(numbers)), columns=['Mobile_No'])\n",
    "word_df.to_csv(\"WordToExcel.csv\")"
   ]
  },
  {
   "cell_type": "code",
   "execution_count": 10,
   "id": "e1d71c98",
   "metadata": {},
   "outputs": [],
   "source": []
  },
  {
   "cell_type": "code",
   "execution_count": null,
   "id": "8316204b",
   "metadata": {},
   "outputs": [],
   "source": []
  }
 ],
 "metadata": {
  "kernelspec": {
   "display_name": "Python 3",
   "language": "python",
   "name": "python3"
  },
  "language_info": {
   "codemirror_mode": {
    "name": "ipython",
    "version": 3
   },
   "file_extension": ".py",
   "mimetype": "text/x-python",
   "name": "python",
   "nbconvert_exporter": "python",
   "pygments_lexer": "ipython3",
   "version": "3.8.8"
  }
 },
 "nbformat": 4,
 "nbformat_minor": 5
}
